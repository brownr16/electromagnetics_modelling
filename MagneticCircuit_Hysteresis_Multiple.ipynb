{
  "cells": [
    {
      "cell_type": "markdown",
      "metadata": {
        "id": "view-in-github",
        "colab_type": "text"
      },
      "source": [
        "<a href=\"https://colab.research.google.com/github/brownr16/electromagnetics_modelling/blob/main/MagneticCircuit_Hysteresis_Multiple.ipynb\" target=\"_parent\"><img src=\"https://colab.research.google.com/assets/colab-badge.svg\" alt=\"Open In Colab\"/></a>"
      ]
    },
    {
      "cell_type": "markdown",
      "metadata": {
        "id": "jAMKoELNpsK-"
      },
      "source": [
        "<center><h1><b> Effects of Hysteresis and Saturation</h1></b>\n",
        "\n",
        "Dr. Bingsen Wang\n",
        "\n",
        "4/26/2023\n",
        "</center>"
      ]
    },
    {
      "cell_type": "markdown",
      "metadata": {
        "id": "INSH6UbiP4QR"
      },
      "source": [
        "#Energy Input\n",
        "\n"
      ]
    },
    {
      "cell_type": "markdown",
      "source": [
        "For a magnetic circuit with winding of $N$ turns, the induced voltage is $v=v(t)$ while the current through the winding is $i=i(t)$.\n",
        "The electric power input is\n",
        "$$ p(t) = v(t)i(t)\\tag{1}$$\n",
        "\n",
        "The induced voltage $v$ is related to the flux linkage $\\lambda$ by\n",
        "$$ v(t) = {d\\lambda(t) \\over dt} \\tag{2}$$\n",
        "\n",
        "Substituting (2) in (1) yields\n",
        "$$ p(t) = i(t){d\\lambda(t) \\over dt}\\tag{3}$$\n",
        "\n",
        "The instantaneous energy input to the circuit is\n",
        "$$w(t) = \\int p(t)dt = \\int i(\\lambda) d\\lambda \\tag{4}$$\n",
        "\n",
        "If the flux linkage changes from $\\lambda_1$ to $\\lambda_2$ within time $t_1$ to $t_2$, the total energy input is\n",
        "$$\\Delta W = \\int_{t_1}^{t_2} p(t)dt = \\int_{\\lambda_1}^{\\lambda_2} i(\\lambda) d\\lambda\\tag{5}$$\n",
        "\n",
        "If no mechanical energy is converted and there is no eddy current loss involved, the input energy that can be positive or negative will increase or decrease the energy stored in the magnetic field, respectively. \n",
        "\n",
        "\n",
        "\n",
        "\n",
        "\n"
      ],
      "metadata": {
        "id": "ieQIQ8NUfDSV"
      }
    },
    {
      "cell_type": "markdown",
      "source": [
        "#Relationships Amongst the Variables of a Magnetic Circuit"
      ],
      "metadata": {
        "id": "SmS_Ljay1mYm"
      }
    },
    {
      "cell_type": "markdown",
      "source": [
        "There are several physical variables associated with a magentic circuit. The flux linkage $\\lambda$, flux $\\phi$ and flux densit $B$ are related to each other by\n",
        "$$\\lambda = N\\phi = NA_cB \\tag{6}$$\n",
        "where $N$ is the number of turns of the coil; $A_c$ is the cross-sectional area of the magnetic core.\n",
        "\n",
        "On the other hand, the current $i$, magnetomotive force (mmf) $\\cal{F}$, and magnetic field intensity $H$ are related to each other by\n",
        "$$ i = \\frac{\\cal F}{N} = {l_c\\over N}H \\tag{7}$$\n",
        "\n",
        "Furthermore, the following equation describes the relationship between (6) and (7)\n",
        "$$\\begin{align}   \\lambda &= L i\\\\   \\phi &= {\\cal P}{\\cal F}\\\\   B &= \\mu H\n",
        "\\end{align}\\tag{8}$$\n",
        "where $L$ is inductance; the permeance ${\\cal P} = {1\\over \\cal R}$ with $\\cal R$ being the reluctance; $\\mu$ is the permeability of the magnetic material of the core.\n",
        "\n",
        "The following can also be derived\n",
        "$$ L = N^2{\\cal P} = {N^2 A_c\\over l_c}\\mu \\tag{9}$$"
      ],
      "metadata": {
        "id": "Ky7KJSeb1txW"
      }
    },
    {
      "cell_type": "markdown",
      "source": [
        "Due to (9), the saturation property of the magnetic material results in the curves of $\\lambda(i),\\phi({\\cal F}),B(H)$ being in the similar shape.  "
      ],
      "metadata": {
        "id": "-nGQw4xk8ncu"
      }
    },
    {
      "cell_type": "markdown",
      "source": [
        "#Mathematical Description of Magnetic Hysteresis Loop"
      ],
      "metadata": {
        "id": "WPC_rSKL-LSU"
      }
    },
    {
      "cell_type": "markdown",
      "source": [
        "The resource for this section is based on the reference paper \"A phenomenological mathematical model of hysteresis\" by J Takacs. \n",
        "\n",
        "##Saturation Curve\n",
        "The saturation curve is described by\n",
        "$$ f_s(x) = A_0 x + B_0 \\tanh(C_0x) \\tag{10}$$"
      ],
      "metadata": {
        "id": "QGcd7HReEU-_"
      }
    },
    {
      "cell_type": "markdown",
      "source": [
        "## Hysteresis Loop"
      ],
      "metadata": {
        "id": "Y5-GALlTh1sM"
      }
    },
    {
      "cell_type": "markdown",
      "source": [
        "The hysteresis loop is described by two curves, one for ascending and one for descending\n",
        "$$\\begin{align} f_{h+} &= \\tanh(x-a_0) + b_1\\\\\n",
        "                f_{h-} &= \\tanh(x+a_0) - b_1\n",
        "\\end{align} \\tag{11}$$\n",
        "where \n",
        "$$b_1 =\\frac{\\tanh(x_m + a_0) - \\tanh(x_m - a_0)}{2} \\tag{12}$$\n",
        "with $x_m$ being the maximum $x$ value where $f_{h+}$ and $f_{h-}$ intersect."
      ],
      "metadata": {
        "id": "7L1Zdm4lh_Sf"
      }
    },
    {
      "cell_type": "markdown",
      "metadata": {
        "id": "Hv0YxDrWU4h8"
      },
      "source": [
        "#Python Code\n",
        "The Python code animates effects hysteresis and saturation of magnetic material through multiple curves."
      ]
    },
    {
      "cell_type": "code",
      "execution_count": null,
      "metadata": {
        "colab": {
          "base_uri": "https://localhost:8080/",
          "height": 1000
        },
        "id": "XeGsHYTt8IXU",
        "outputId": "ae452240-6de3-4d98-c84d-a5481d516d77"
      },
      "outputs": [
        {
          "output_type": "stream",
          "name": "stderr",
          "text": [
            "<ipython-input-47-ee9e4f6f15ea>:32: UserWarning: This figure includes Axes that are not compatible with tight_layout, so results might be incorrect.\n",
            "  fig.tight_layout()\n"
          ]
        },
        {
          "output_type": "display_data",
          "data": {
            "text/plain": [
              "<Figure size 900x1600 with 2 Axes>"
            ],
            "image/png": "[encoded data removed]"
          },
          "metadata": {}
        }
      ],
      "source": [
        "from os import linesep\n",
        "import numpy as np\n",
        "from numpy import linspace,cos,sin,pi,exp,heaviside,angle,sqrt,tanh,arctanh\n",
        "import matplotlib.pyplot as plt\n",
        "from matplotlib.colors import to_rgba\n",
        "from matplotlib.text import TextPath\n",
        "from matplotlib.path import Path\n",
        "from matplotlib.patches import PathPatch,Arrow,Circle,Rectangle\n",
        "from matplotlib.collections import PatchCollection\n",
        "from matplotlib import animation,rc,transforms\n",
        "rc('animation', html='jshtml')\n",
        "plt.rcParams.update({\"font.family\" : \"serif\",\"mathtext.fontset\" : \"cm\"})\n",
        "#hysteresis loop with i,F,H as independent variable\n",
        "def fh(x,a0,xm): \n",
        "  b1 = 0.5*(tanh(xm+a0) - tanh(xm-a0))\n",
        "  fhp = tanh(x - a0) + b1 #ascending\n",
        "  fhn = tanh(x + a0) - b1 #descending\n",
        "  return fhp,fhn,\n",
        "\n",
        "#hysteresis loop with lambda,phi,B as independent variable\n",
        "def fh_inv(y,a0,xm):\n",
        "  b1 = 0.5*(tanh(xm+a0) - tanh(xm-a0))\n",
        "  xhp = arctanh(y - b1) + a0 #ascending\n",
        "  xhn = arctanh(y + b1) - a0 #descending\n",
        "  return xhp,xhn,\n",
        "\n",
        "fig = plt.figure(figsize=(9,16))\n",
        "xylim =[3,1.2]\n",
        "ax1 = fig.add_axes((1/18,0.5 , 8/9, 0.495),xlim=[-(xylim[0]+0.1),(xylim[0]+0.1)],ylim=[-(xylim[1]+0.1),(xylim[1]+0.1)]) # hystersis\n",
        "xylim2=[1,2]\n",
        "ax2 = fig.add_axes((0,0.0 , 1, 0.5),xlim=[-0.05,0.05+xylim2[0]], ylim=[-0.02,0.02+xylim2[1]]) \n",
        "fig.tight_layout()\n",
        "ax1.axis('off')\n",
        "ax2.axis('off')\n",
        "\n",
        "kwargs = {'overhang':0.5,'width':0.002, 'head_width':0.025, 'ec':'k', 'fc':'k', 'length_includes_head':True}\n",
        "ax1.arrow(-xylim[0],0,2*xylim[0],0,**kwargs)\n",
        "ax1.arrow(0,-xylim[1],0,2*xylim[1],**kwargs)\n",
        "ax1.text(xylim[0]-0.5,-0.1,r'$i,{\\cal F},H$',size=18)\n",
        "ax1.text(0,xylim[1],r'$\\lambda,\\phi,B$',size=18)\n",
        "\n",
        "x0 = 0 # orgins of x-axis\n",
        "y0 = [1.5,0.5] # origins of y-axis\n",
        "xln = xylim2[0] # length of x-axis\n",
        "yln = xylim2[1]/2*0.95 # length of y-axis\n",
        "ax2.arrow(x0,y0[0],xln,0,**kwargs)\n",
        "ax2.arrow(x0,y0[1],xln,0,**kwargs)\n",
        "ax2.arrow(x0,y0[0]-yln*0.5,0,yln,**kwargs)\n",
        "ax2.arrow(x0,y0[1]-yln*0.5,0,yln,**kwargs)\n",
        "ax2.text(x0,y0[0]+yln*0.5,r'$\\lambda,\\phi,B$',size=18)\n",
        "ax2.text(x0,y0[1]+yln*0.5,r'$i,{\\cal F},H$',size=18)\n",
        "ax2.text(x0+xln-0.02,y0[0]-0.075,r'$t$',size=18)\n",
        "ax2.text(x0+xln-0.02,y0[1]-0.075,r'$t$',size=18)\n",
        "#prameters\n",
        "a0=[1.5,0.8,0,0,0]\n",
        "xm=2.5\n",
        "ym=[]\n",
        "for k in range(len(a0)):\n",
        "  ym.append(fh(xm,a0[k],xm)[0])\n",
        "lmd_m=[ym[0],ym[1],ym[2],0.8*ym[3],0.5*ym[4]]\n",
        "\n",
        "Nfpp=176\n",
        "Nf = 5*Nfpp\n",
        "t=linspace(0,1,Nfpp)\n",
        "t2=t[int(Nfpp/2):Nfpp]\n",
        "lmd_ds=[] #desending branch\n",
        "lmd_as=[] #asending branch\n",
        "i_ds=[] #desending branch\n",
        "i_as=[] #asending branch\n",
        "for k in range(len(a0)):\n",
        "  lmd = lmd_m[k]*cos(2*pi*t)\n",
        "  lmd1 = lmd[0:int(Nfpp/2)]\n",
        "  lmd2 = lmd[int(Nfpp/2):Nfpp]\n",
        "  i1 = fh_inv(lmd1,a0[k],xm)[1] #descending\n",
        "  i2 = fh_inv(lmd2,a0[k],xm)[0] #ascending\n",
        "  lmd_ds.append(lmd1)\n",
        "  lmd_as.append(lmd2)\n",
        "  i_ds.append(i1)\n",
        "  i_as.append(i2)\n",
        "\n",
        "\n",
        "\n",
        "lines = [] #array containing all the line segments\n",
        "lines.append(ax1.plot([], [], color='b', lw=4)[0])\n",
        "lines.append(ax1.plot([], [], color='r', lw=4)[0])\n",
        "lines.append(ax1.plot([], [], color='b', lw=1,marker='o',ls='--')[0])\n",
        "lines.append(ax1.plot([], [], color='b', lw=1,marker='o',ls='--')[0])\n",
        "lines.append(ax1.plot([], [], color='r', lw=1,marker='o',ls='--')[0])\n",
        "lines.append(ax1.plot([], [], color='r', lw=1,marker='o',ls='--')[0])\n",
        "for k in range(2):\n",
        "  lines.append(ax2.plot([], [], color='b', lw=3)[0]) \n",
        "  lines.append(ax2.plot([], [], color='r', lw=3)[0]) \n",
        "line_hp, = ax1.plot([], [], '--', color=to_rgba('k',0.3), lw=1)\n",
        "line_hn, = ax1.plot([], [], '--', color=to_rgba('k',0.3), lw=1)\n",
        "\n",
        "\n",
        "# animation function.  This is called sequentially\n",
        "def animate(i):\n",
        "  k=int(i/Nfpp)\n",
        "  i=i%Nfpp\n",
        "  if i==0:\n",
        "    hp,hn = fh(linspace(-xm,xm,100),a0[k],xm)\n",
        "    line_hp.set_data(linspace(-xm,xm,100),hp)\n",
        "    line_hn.set_data(linspace(-xm,xm,100),hn)\n",
        "\n",
        "  if i<Nfpp/2:\n",
        "    for kk in range(10):\n",
        "      lines[kk].set_data([],[])\n",
        "    lines[0].set_data(i_ds[k][0:i+1], lmd_ds[k][0:i+1])\n",
        "    lines[2].set_data([i_ds[k][i],i_ds[k][i]], [0,lmd_ds[k][i]])\n",
        "    lines[3].set_data([0,i_ds[k][i]],[lmd_ds[k][i], lmd_ds[k][i]])\n",
        "    lines[6].set_data(t[0:i+1]+x0, y0[0]+lmd_ds[k][0:i+1]*yln*0.475)\n",
        "    lines[8].set_data(t[0:i+1]+x0, y0[1]+i_ds[k][0:i+1]/xm*yln*0.475)\n",
        "  else:\n",
        "    i=i%int(Nfpp/2)\n",
        "    for kk in range(2):\n",
        "      lines[2+kk].set_data([],[])\n",
        "    lines[1].set_data(i_as[k][0:i+1], lmd_as[k][0:i+1])\n",
        "    lines[4].set_data([i_as[k][i],i_as[k][i]], [0,lmd_as[k][i]])\n",
        "    lines[5].set_data([0,i_as[k][i]], [lmd_as[k][i], lmd_as[k][i]])\n",
        "    lines[7].set_data(t2[0:i+1]+x0, y0[0]+lmd_as[k][0:i+1]*yln*0.475)\n",
        "    lines[9].set_data(t2[0:i+1]+x0, y0[1]+i_as[k][0:i+1]/xm*yln*0.475)\n",
        "  return\n",
        "\n",
        "anim = animation.FuncAnimation(fig, animate, frames=Nf, interval=50)\n",
        "# anim #uncomment to generate animation in the output area\n",
        "# to save the animation, uncomment the following three lines\n",
        "fn = r\"MagneticCircuit_HysteresisLoopMultiple.mp4\" \n",
        "writervideo = animation.FFMpegWriter(fps=50) \n",
        "anim.save(fn, writer=writervideo,dpi = 200)\n",
        "\n",
        "# debug\n",
        "# ax2.plot(t,y0[0]+lmd*yln*0.475)\n",
        "# ax2.plot(t,y0[1]+i_lmd/xm*yln*0.475)\n",
        "# ax11.plot(i_ds[0][0:10],lmd_ds[0][0:10],'b',lw=3)\n",
        "# ax11.plot(i_as[1][0:20],lmd_as[1][0:20],'r',lw=3)\n",
        "# lines[2].set_data(i2,lmd2)"
      ]
    }
  ],
  "metadata": {
    "colab": {
      "provenance": [],
      "include_colab_link": true
    },
    "kernelspec": {
      "display_name": "Python 3",
      "name": "python3"
    }
  },
  "nbformat": 4,
  "nbformat_minor": 0
}