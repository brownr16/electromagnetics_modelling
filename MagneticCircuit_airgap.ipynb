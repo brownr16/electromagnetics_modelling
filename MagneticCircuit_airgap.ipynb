{
  "cells": [
    {
      "cell_type": "markdown",
      "metadata": {
        "id": "view-in-github",
        "colab_type": "text"
      },
      "source": [
        "<a href=\"https://colab.research.google.com/github/brownr16/electromagnetics_modelling/blob/main/MagneticCircuit_airgap.ipynb\" target=\"_parent\"><img src=\"https://colab.research.google.com/assets/colab-badge.svg\" alt=\"Open In Colab\"/></a>"
      ]
    },
    {
      "cell_type": "markdown",
      "metadata": {
        "id": "jAMKoELNpsK-"
      },
      "source": [
        "<center><h1><b> Magnetic Circuit with Air Gap</h1></b>\n",
        "\n",
        "Dr. Bingsen Wang\n",
        "\n",
        "4/30/2023\n",
        "</center>"
      ]
    },
    {
      "cell_type": "markdown",
      "metadata": {
        "id": "INSH6UbiP4QR"
      },
      "source": [
        "#Operating Point of Magnetic Circuit with Air Gap\n",
        "\n"
      ]
    },
    {
      "cell_type": "markdown",
      "source": [
        "##Operating Point Based on $B$ and $H$"
      ],
      "metadata": {
        "id": "hTT0AQnsRrvH"
      }
    },
    {
      "cell_type": "markdown",
      "source": [
        "With an air gap, the magnetic field intensity inside the core and the air gap are $H_c$ and $H_g$, respectively. Based on Ampere's law, the following holds\n",
        "$$H_cl_c + H_gl_g = Ni\\tag{1}$$\n",
        "where N is the number of turns of the winding; $l_c$ is the length of the flux path inside the magnetic core;  $l_g$ is the length of the air gap.\n",
        "\n",
        "Due to the continuity of magnetic flux, we have\n",
        "$$B_cA_c = B_gA_g\\tag{2}$$\n",
        "where $A_c$ is the cross sectional area of the magnetic core; $B_c$ is the flux density inside the magnetic core; $A_g$ is the cross sectional area of the  air gap; $B_g$ is the flux density inside the air gap.\n",
        "\n",
        "If the cross sectional areas of the core and the air gap are equal, then flux density inside the air gap will be equal to the one inside the magentic core, i.e.\n",
        "$$B_g = B_c = B \\tag{3}$$\n",
        "\n",
        "\n",
        "\n"
      ],
      "metadata": {
        "id": "ieQIQ8NUfDSV"
      }
    },
    {
      "cell_type": "markdown",
      "source": [
        "Inside the air gap, we have\n",
        "$$  H_g = {B\\over\\mu_0} \\tag{4}$$\n",
        "where $\\mu_0$ is the permeability of the air. \n",
        "\n",
        "Substituting (4) in (1) yields\n",
        "$$H_cl_c + {B\\over\\mu_0}l_g = Ni\\tag{5}$$\n",
        "Alternatively, (5) can be rewritten as\n",
        "$$B = -\\frac{\\mu_0l_c}{l_g}H_c + \\frac{\\mu_0Ni}{l_g}\\tag{6}$$\n",
        "The intersection of straight line represented by (6) and the B-H curve of the magnetic material determins the operating point. If the magnetic curve is linear, i.e.\n",
        "$$H_c= {B\\over\\mu}\\tag{7}$$\n",
        "Substituting (7) in (6) yields\n",
        "$$B = \\frac{\\mu_0\\over l_g}{1+ \\frac{\\mu_0l_c}{\\mu l_g}} Ni = \\frac{1}{\\frac{l_g}{\\mu_0}+ \\frac{l_c}{\\mu}} Ni\\tag{8}$$\n"
      ],
      "metadata": {
        "id": "48dIOwjxQP5H"
      }
    },
    {
      "cell_type": "markdown",
      "source": [
        "##Operating Point Based on $\\phi$ and $\\cal F$"
      ],
      "metadata": {
        "id": "Y6GJoXoVV2yv"
      }
    },
    {
      "cell_type": "markdown",
      "source": [
        "With an air gap, the magnetomotive force (mmf) across the core and the air gap are $\\cal F_c$ and $\\cal F_g$, respectively. Based on Ampere's law, the following holds\n",
        "$${\\cal F}_c + {\\cal F}_g = Ni\\tag{9}$$\n",
        "Let $\\phi$ be the flux that is the same inside the core or the air gap. Then\n",
        "$${\\cal F}_g = \\phi {\\cal R}_g\\tag{10}$$\n",
        "where $\\cal R_g$ is the reluctance of the air gap determined by\n",
        "${\\cal R}_g = \\frac{l_g}{\\mu_0 A_c}$\n",
        "\n",
        "Substituting (10) in (9) yields\n",
        "$$\\phi = -{1\\over\\cal R_g}{\\cal F_c} +\\frac{Ni}{\\cal R_g}\\tag{11}$$\n",
        "\n",
        "The intersection of the straight line represented by (11) and the $\\phi$-$\\cal F$ curve of the magnetic material determines the operating point.\n",
        "If the magnetic curve is linear, i.e.\n",
        "$${\\cal F}_c = \\phi {\\cal R_c}\\tag{12}$$\n",
        "Substituting (12) in (11) yields\n",
        "$$\\phi = \\frac{Ni}{{\\cal R}_g\\left(1+\\frac{\\cal R_c}{\\cal R_g}\\right)} =\\frac{Ni}{\\cal R_g + \\cal R_c} \\tag{13}$$\n",
        "\n"
      ],
      "metadata": {
        "id": "MWVOeVIpYv_g"
      }
    },
    {
      "cell_type": "markdown",
      "source": [
        "##Operating Point Based on $\\lambda$ and $i$"
      ],
      "metadata": {
        "id": "HndjwS6cdULH"
      }
    },
    {
      "cell_type": "markdown",
      "source": [
        "With an air gap, the magnetizing current for the core and the air gap are $\\cal i_c$ and $\\cal i_g$, respectively. Then we have\n",
        "$$i_c + i_g=i \\tag{14}$$\n",
        "\n",
        "Let $L_g = {N^2\\over {\\cal R}_g}$ be the inductance associated with the air gap alone, then \n",
        "$$i_g = {\\lambda\\over L_g}\\tag{15}$$\n",
        "Substituting (15) in (14) yields\n",
        "$$\\lambda = -L_g i_c + L_gi \\tag{16}$$\n",
        "The intersection of the straight line represented by (16) and the $\\lambda-i_c$ curve determines the operating point. If the inductance is linear, i.e.\n",
        "$$i_c = {\\lambda \\over L_c} \\tag{17}$$\n",
        "Substituting (17) in (16) yields\n",
        "$$\\lambda = \\frac{L_g i}{1+{L_g\\over L_c}} = \\frac{1}{{1\\over L_g}+ {1\\over L_c}}i \\tag{18}$$"
      ],
      "metadata": {
        "id": "Wg4Am0WzQGZV"
      }
    },
    {
      "cell_type": "markdown",
      "source": [
        "#$\\lambda-i$ Curve as an Example"
      ],
      "metadata": {
        "id": "bXy8CDS84f-e"
      }
    },
    {
      "cell_type": "markdown",
      "source": [
        "Let the $\\lambda-i$ curve of the magnetic core without air gap be modeled by\n",
        "$$\\lambda = L\\tanh(i_c)\\tag{19}$$\n",
        "where $L=\\frac{N^2\\mu A_c}{l_c}$ with $\\mu$ being the permeability before saturation. \n",
        "With air-gap, the additional equation as in (16) has to be satisfied. Substituting (16) in (19) yields\n",
        "$$i_c +\\frac{L}{L_g}\\tanh(i_c) = i \\tag{20}$$\n",
        "Since $L_g = \\frac{N^2\\mu_0 A_c}{l_g}$, (20) can be rewritten as\n",
        "$$i_c +\\mu_r\\frac{l_g}{l_c}\\tanh(i_c) = i \\tag{21}$$\n",
        "\n",
        "For each given $i$, $i_c$ can be solved from (20) or (21). Then the result of $i_c$ is used to determine $\\lambda$ in (19). Thus, the plot of $\\lambda-i$ curve is obtained."
      ],
      "metadata": {
        "id": "6E2cfGEj7H9Y"
      }
    },
    {
      "cell_type": "markdown",
      "metadata": {
        "id": "Hv0YxDrWU4h8"
      },
      "source": [
        "#Python Code\n",
        "The Python code illustrate the $\\lambda-i$ curves for different air-gap lengths."
      ]
    },
    {
      "cell_type": "code",
      "execution_count": null,
      "metadata": {
        "colab": {
          "base_uri": "https://localhost:8080/",
          "height": 1000
        },
        "id": "XeGsHYTt8IXU",
        "outputId": "cc6a8944-6508-4a43-935a-369c381450f3"
      },
      "outputs": [
        {
          "output_type": "stream",
          "name": "stderr",
          "text": [
            "<ipython-input-40-2c16b606d979>:115: UserWarning: This figure includes Axes that are not compatible with tight_layout, so results might be incorrect.\n",
            "  fig.tight_layout()\n"
          ]
        },
        {
          "output_type": "display_data",
          "data": {
            "text/plain": [
              "<Figure size 900x1600 with 3 Axes>"
            ],
            "image/png": "[encoded data removed]"
          },
          "metadata": {}
        }
      ],
      "source": [
        "import matplotlib\n",
        "from os import linesep\n",
        "import numpy as np\n",
        "from scipy.optimize import fsolve\n",
        "from numpy import linspace,cos,sin,pi,exp,heaviside,angle,sqrt,tanh,arctanh,arctan\n",
        "import matplotlib.pyplot as plt\n",
        "from matplotlib.colors import to_rgba,to_rgb\n",
        "from matplotlib.text import TextPath\n",
        "from matplotlib.path import Path\n",
        "import matplotlib.patches as mp\n",
        "#  import PathPatch,Arrow,Circle,Rectangle\n",
        "from matplotlib.collections import PatchCollection\n",
        "from matplotlib import animation,rc,transforms\n",
        "rc('animation', html='jshtml')\n",
        "plt.rcParams.update({\"font.family\" : \"serif\",\"mathtext.fontset\" : \"cm\"})\n",
        "\n",
        "#draw coil\n",
        "def drawCoil(ax,x0,y0,w,l,n,clr,lw,dir):\n",
        "  \"\"\"\n",
        "  x0,y0: lower left corner of the coil\n",
        "  w: width of the core that the coil is wound around\n",
        "  l: length\n",
        "  n: number of turns\n",
        "  cl: color\n",
        "  dir: 1 for right-hand up or left; 0 for opposite direction\n",
        "  \"\"\"\n",
        "  dbt = l/n #distance between turns\n",
        "  if dir==0:\n",
        "    ax.add_patch(mp.PathPatch(Path([(x0-w*0.2,y0),(x0+w*1.05,y0),(x0+w*1.2,y0+dbt*0.1),(x0+w*1.05,y0+dbt*0.2)],\n",
        "                                    [Path.MOVETO,Path.LINETO,Path.CURVE3,Path.CURVE3]),\n",
        "                               color=clr,fc='none',lw=lw)) #first turn\n",
        "    ax.add_patch(mp.PathPatch(Path([(x0-w*0.2,y0+l),(x0-w*.05,y0+l)],\n",
        "                                    [Path.MOVETO,Path.LINETO]),\n",
        "                               color=clr,fc='none',lw=lw)) #last turn\n",
        "    \n",
        "    for k in range(1,n): #turns other than 1st and last\n",
        "        vt = [(x0-w*0.05,y0+dbt*(k-0.2)),\n",
        "              (x0-w*.2,y0+dbt*(k-0.1)),\n",
        "              (x0-w*0.05,y0+dbt*k),\n",
        "              (x0+w*1.05,y0+dbt*k),\n",
        "              (x0+w*1.2,y0+dbt*(k+0.1)),\n",
        "              (x0+w*1.05,y0+dbt*(k+0.2))]\n",
        "        codes = [Path.MOVETO,\n",
        "                 Path.CURVE3,\n",
        "                 Path.CURVE3,\n",
        "                 Path.LINETO,\n",
        "                 Path.CURVE3,\n",
        "                 Path.CURVE3]\n",
        "        rot = transforms.Affine2D().rotate_deg_around(x0+w*0.5,y0+dbt*k,arctan(dbt/w*0.25)*180/pi)+ax.transData\n",
        "        ax.add_patch(mp.PathPatch(Path(vt,codes), color=clr,fc='none',lw=lw, transform=rot))\n",
        "  if dir==1:\n",
        "    ax.add_patch(mp.PathPatch(Path([(x0-w*0.2,y0+l),(x0+w*1.05,y0+l),(x0+w*1.2,y0+l-dbt*0.1),(x0+w*1.05,y0+l-dbt*0.2)],\n",
        "                                    [Path.MOVETO,Path.LINETO,Path.CURVE3,Path.CURVE3]),\n",
        "                               color=clr,fc='none',lw=lw)) #first turn\n",
        "    ax.add_patch(mp.PathPatch(Path([(x0-w*0.2,y0),(x0-w*.05,y0)],\n",
        "                                    [Path.MOVETO,Path.LINETO]),\n",
        "                               color=clr,fc='none',lw=lw)) #last turn\n",
        "    \n",
        "    for k in range(1,n): #turns other than 1st and last\n",
        "        vt = [(x0-w*0.05,y0+dbt*(k+0.2)),\n",
        "              (x0-w*.2,y0+dbt*(k+0.1)),\n",
        "              (x0-w*0.05,y0+dbt*k),\n",
        "              (x0+w*1.05,y0+dbt*k),\n",
        "              (x0+w*1.2,y0+dbt*(k-0.1)),\n",
        "              (x0+w*1.05,y0+dbt*(k-0.2))]\n",
        "        codes = [Path.MOVETO,\n",
        "                 Path.CURVE3,\n",
        "                 Path.CURVE3,\n",
        "                 Path.LINETO,\n",
        "                 Path.CURVE3,\n",
        "                 Path.CURVE3]\n",
        "        rot = transforms.Affine2D().rotate_deg_around(x0+w*0.5,y0+dbt*k,-arctan(dbt/w*0.25)*180/pi)+ax.transData\n",
        "        ax.add_patch(mp.PathPatch(Path(vt,codes), color=clr,fc='none',lw=lw, transform=rot))\n",
        "  return\n",
        "\n",
        "#draw magnetic circuit\n",
        "def drawMagCkt(ax,x0,y0,w,h,c,lg):\n",
        "  \"\"\"\n",
        "  x0,y0: center of the magnetic core\n",
        "  w: width\n",
        "  h: hight\n",
        "  c: cross section\n",
        "  air-gap length\n",
        "  \"\"\"\n",
        "  wi = w - 2*c #inner width\n",
        "  hi = h - 2*c #inner hight\n",
        "  ax.add_patch(mp.Rectangle((x0-0.5*w,y0-0.5*h),w,h,\n",
        "               ec=to_rgba('k',0.6),fc=to_rgba('grey',0.2),lw=3 )) #outer boundary of core\n",
        "  ax.add_patch(mp.Rectangle((x0-0.5*wi,y0-0.5*hi),wi,hi,\n",
        "               ec=to_rgba('k',0.6),fc='w',lw=3 )) #inner boundary of core \n",
        "  ax.add_patch(mp.Rectangle((x0+0.5*wi-0.1,y0-0.5*lg),c+0.2,lg,ec='none',fc='w')) #air gap\n",
        "  drawCoil(ax,x0-w*0.5,y0-0.25*hi,c,0.5*hi,10,'darkorange',3,1)    \n",
        "  x1=x0-w*0.5-0.2*c\n",
        "  y1=y0-0.25*hi\n",
        "  ax.add_patch(mp.PathPatch(Path([(x1,y1),(x1- 0.4,y1),(x1-0.4,y1+0.17*hi),\n",
        "                               (x1,y1+0.5*hi),(x1- 0.4,y1+0.5*hi),(x1-0.4,y1+0.33*hi)],\n",
        "                              [Path.MOVETO,Path.LINETO,Path.LINETO,\n",
        "                               Path.MOVETO,Path.LINETO,Path.LINETO]),\n",
        "                         lw=2,fc='none'))\n",
        "  ax.add_patch(mp.Circle((x1-0.4,0),0.08*hi,lw=2,fc='none',ec='k'))\n",
        "  ax.text(x1-0.395,0,'-  +',va='center', ha='center',rotation='vertical',size=18)\n",
        "  ax.text(-0.45,.275,r'$i$',size=20,ha='center')\n",
        "  ax.text(0.2,.57,r'$\\phi$',size=20,ha='center')\n",
        "  ax.add_patch(mp.FancyBboxPatch((x0-0.5*w+0.5*c,y0-0.5*h+0.5*c),w-c,h-c,\n",
        "                                  boxstyle='round,pad=0,rounding_size=0.05',\n",
        "                                  fc='none',ec='r',ls='--',lw=1.5,zorder=3)) #flux path\n",
        "  return\n",
        "\n",
        "fig = plt.figure(figsize=(9,16))\n",
        "xylim1 =[3,1.05]\n",
        "ax1 = fig.add_axes((1/18,0.5 , 8/9, 0.495),xlim=[-0.1,xylim1[0]+0.1], ylim=[-0.1,xylim1[1]+0.1]) # hystersis\n",
        "xylim2=[9/8,1]\n",
        "ax2 = fig.add_axes((0.0, 0.0, 1, 0.5), xlim=[-xylim2[0],xylim2[0]], ylim=[-xylim2[1],xylim2[1]]) \n",
        "ax3 = fig.add_axes((0.0, 0.0, 1, 0.5), xlim=[-xylim2[0],xylim2[0]], ylim=[-xylim2[1],xylim2[1]]) \n",
        "fig.tight_layout()\n",
        "ax1.axis('off')\n",
        "ax2.axis('off')\n",
        "ax3.axis('off')\n",
        "\n",
        "kwargs = {'overhang':0.5,'width':0.002, 'head_width':0.015, 'ec':'k', 'fc':'k', 'length_includes_head':True}\n",
        "ax1.arrow(-xylim1[0],0,2*xylim1[0],0,**kwargs)\n",
        "ax1.arrow(0,-xylim1[1],0,2*xylim1[1],**kwargs)\n",
        "ax1.text(xylim1[0]-0.05,-0.05,r'$i$',size=22)\n",
        "ax1.text(0.01,xylim1[1]-0.025,r'$\\lambda$',size=22)\n",
        "title_text=ax1.text(1.5,1,\"\",ha='center',size=24)\n",
        "\n",
        "\n",
        "\n",
        "x0=0.2\n",
        "y0=0\n",
        "w=0.9\n",
        "h=1.25\n",
        "c=0.15\n",
        "Nfpp=150\n",
        "Nf = 3*Nfpp\n",
        "mu_r=1000\n",
        "rlgc = [0,0.002,0.005] #ratio lg/lc\n",
        "L=1\n",
        "xm=2.9\n",
        "x=linspace(0,xm,Nfpp)\n",
        "lmd_ng = tanh(x) # without air gap\n",
        "lmd=[] #flux linkage for all air-gap lengths\n",
        "lmd_appr = [] #linear approximation\n",
        "lg = []\n",
        "for k in range(len(rlgc)):\n",
        "  lg.append(rlgc[k]*(2*(w-c)+2*(h-c)))\n",
        "  lmd_k=[]\n",
        "  for ix in x:\n",
        "    func = lambda ic: ic + mu_r*rlgc[k]*tanh(ic)-ix\n",
        "    ic_guess=0.5 #initial guess value\n",
        "    ic_sol =fsolve(func,ic_guess) # using fsolve function to solve ic solution\n",
        "    lmd_k.append(L*tanh(ic_sol)) #flux linkage for the k-th air gap length\n",
        "  lmd.append(lmd_k)\n",
        "  lmd_appr.append(L/(1+mu_r*rlgc[k])*x)\n",
        "\n",
        "#line for lambda-i curve\n",
        "line_li, = ax1.plot([], [], color='b', lw=5)\n",
        "\n",
        "text_list=['Case #1: No Air Gap', 'Case #2: Small Air Gap', 'Case #3: Larger Air Gap']\n",
        "# animation function.  This is called sequentially\n",
        "def animate(i):\n",
        "  k = int(i/Nfpp)\n",
        "  i=i%Nfpp\n",
        "  if i==1:\n",
        "    drawMagCkt(ax2,x0,y0,w,h,c,lg[k])\n",
        "    title_text.set_text(text_list[k])\n",
        "  line_li.set_data(x[0:i],lmd[k][0:i])\n",
        "  ax3.clear()\n",
        "  ax3.set_xlim(-xylim2[0],xylim2[0])\n",
        "  ax3.set_ylim(-xylim2[1],xylim2[1])\n",
        "  ax3.axis('off')\n",
        "  ax3.add_patch(mp.Arrow(-0.45-x[i]/xm/8,0.26,x[i]/xm/4,0,width=0.05,fc='b')) #current arrow\n",
        "  ax3.add_patch(mp.Arrow(0.2-lmd[k][i]/8,y0+0.5*h-0.5*c,lmd[k][i]/4,0,width=0.075,fc='b')) #flux arrow\n",
        "  return\n",
        "\n",
        "anim = animation.FuncAnimation(fig, animate, frames=Nf, interval=50)\n",
        "# anim #uncomment to generate animation in the output area\n",
        "# to save the animation, uncomment the following three lines\n",
        "fn = r\"MagneticCircuit_AirGap.mp4\" \n",
        "writervideo = animation.FFMpegWriter(fps=50) \n",
        "anim.save(fn, writer=writervideo,dpi = 120)\n"
      ]
    }
  ],
  "metadata": {
    "colab": {
      "provenance": [],
      "include_colab_link": true
    },
    "kernelspec": {
      "display_name": "Python 3",
      "name": "python3"
    }
  },
  "nbformat": 4,
  "nbformat_minor": 0
}