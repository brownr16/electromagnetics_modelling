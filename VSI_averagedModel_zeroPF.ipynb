{
  "cells": [
    {
      "cell_type": "markdown",
      "metadata": {
        "id": "view-in-github",
        "colab_type": "text"
      },
      "source": [
        "<a href=\"https://colab.research.google.com/github/brownr16/electromagnetics_modelling/blob/main/VSI_averagedModel_zeroPF.ipynb\" target=\"_parent\"><img src=\"https://colab.research.google.com/assets/colab-badge.svg\" alt=\"Open In Colab\"/></a>"
      ]
    },
    {
      "cell_type": "markdown",
      "metadata": {
        "id": "jAMKoELNpsK-"
      },
      "source": [
        "<center><h1><b>Averaged Model of Voltage Source Inverter: Zero Power Factor with Voltage Leading</h1></b>\n",
        "\n",
        "Dr. Bingsen Wang\n",
        "\n",
        "5/3/2023\n",
        "</center>"
      ]
    },
    {
      "cell_type": "markdown",
      "metadata": {
        "id": "INSH6UbiP4QR"
      },
      "source": [
        "#Introduction\n",
        "\n"
      ]
    },
    {
      "cell_type": "markdown",
      "metadata": {
        "id": "ieQIQ8NUfDSV"
      },
      "source": [
        "At the early design stage, it is often desirable to preliminarily size some components whose specifications are subsequently refined as the program progresses further into the design process. \n",
        "\n",
        "For instance, in electric vehicles, we may have some approximate ratings for the power, voltages and currents to start with. The immediate needs may be to determine some specifications of the motor, inverter, and high-voltage battery. We often encounter needs to determine the dc current from the battery given some ac current requirement from the motor. Although it is not important to the topic, the current requirement typically arises from the torque requirement at the vehicle level depending on the driving profile that the design is targeted for.\n",
        "\n",
        "This **averaged model** intends to capture the very very basic information without complicated math. The hope is that this may help someone without the power electronics background understand and carry out some calculations. The animation by the Python code intends to help visulally and intuitive make sense out of the math involved.\n",
        "\n",
        "\n",
        "\n",
        "\n",
        "\n"
      ]
    },
    {
      "cell_type": "markdown",
      "metadata": {
        "id": "FEVHH5SLX1Hi"
      },
      "source": [
        "#General Assumptions"
      ]
    },
    {
      "cell_type": "markdown",
      "metadata": {
        "id": "FrysXtdTX3t7"
      },
      "source": [
        "Since the averaged model only conerns with the **basic information** that matters to the power conversion, the switching details is definitely omitted.\n",
        "\n"
      ]
    },
    {
      "cell_type": "markdown",
      "source": [
        "##Sinusoidal Load Currents"
      ],
      "metadata": {
        "id": "4Y4y8nb0V9kN"
      }
    },
    {
      "cell_type": "markdown",
      "source": [
        "Without loss of generality, the load currents are in cosine functions with phase-$u$ having zero phase angle. Since the root-mean-square (rms) values are often given for motor currents, the current amplitude $\\sqrt{2}I_{rms}$ is used in the expression. There are plethora of resources online that explains where $\\sqrt{2}$ comes from for sinusoidal waveforms. \n",
        "\n",
        "Here are the first three equations for the load currents of phase-$u,v,w$. Another commonly used notation is phase-$a,b,c$. In this document, the former is adopted since it is more commonly used in automotive industry. It seems that the latter is more frequently employed in power systems. Here the phase angles are in radians which can be easily converted to degrees if you would like to by $1\\ rad = {1\\over\\pi}\\times 180\\ \\deg$. The commonly used $2\\pi\\over3$ radians in three-phase balanced system correspond to $120$ degrees.\n",
        "\n",
        "$$\\begin{align}\n",
        "i_u(t) &= \\sqrt2 I_{rms}\\cos(\\omega t)\\tag{1}\\\\\n",
        "i_v(t) &= \\sqrt2 I_{rms}\\cos\\left(\\omega t - {2\\pi\\over3} \\right)\\tag{2}\\\\\n",
        "i_w(t) &= \\sqrt2 I_{rms}\\cos\\left(\\omega t + {2\\pi\\over3} \\right)\\tag{3}\n",
        "\\end{align}$$\n",
        "where $\\omega$ is the angular fundamental frequency that is related to the frequency $f$ in Hz by $\\omega = 2\\pi f$. The fundamental frequency is related to the motor speed and number of poles or pole-pairs of the motor. It is worth noting that the phase angle in (3) can be either $+{2\\pi\\over3}$ or $-{4\\pi\\over3}$ since $+{2\\pi\\over3} =2\\pi -{4\\pi\\over3}$ and $2\\pi$ radians or $360$ degrees make no difference to a sinusoidal function."
      ],
      "metadata": {
        "id": "sGNl4dYkWM5w"
      }
    },
    {
      "cell_type": "markdown",
      "source": [
        "#Modulation Functions Being Sinusoidal with DC Offset"
      ],
      "metadata": {
        "id": "EcV_Sos4bNYt"
      }
    },
    {
      "cell_type": "markdown",
      "source": [
        "The modulation function is the low-frequency, which is relative to the switching frequency, time-varying singnal that is used to deterine what percentage of duration each switch should be kept on. This *percentage of duration* is often known as **duty ratio** or **duty cycle**. I personally prefer the former over the latter which does not carry any significance in this discussion. The duty ratio is practically feasible only if it takes any value between 0 and 1, inclusively.\n",
        "\n",
        "Let the modulation functions be defined as\n",
        "$$\\begin{align}\n",
        "m_u(t) &= \\frac{1+M\\cos(\\omega t+\\phi)}{2}\\tag{4}\\\\\n",
        "m_v(t) &= \\frac{1+M\\cos\\left(\\omega t + \\phi - {2\\pi\\over3} \\right)}{2}\\tag{5}\\\\\n",
        "m_w(t) &= \\frac{1+M\\cos\\left(\\omega t + \\phi + {2\\pi\\over3} \\right)}{2}\\tag{6}\n",
        "\\end{align}$$\n",
        "where $\\phi$ is the power factor angle that give the power factor $pf=\\cos\\phi$; $M$ is the modulation index. The maximum value of $M$ is 1 for sinusoidal pulse width modulation (SPWM) while the maximum value of $M$ is $2\\over\\sqrt3$ for space vector pulse width modulation (SVPWM). The explanation will be presented in a different document. For this discusstion, equations (4)-(6) will be utilized as the basis."
      ],
      "metadata": {
        "id": "P56kNsNwbcUH"
      }
    },
    {
      "cell_type": "markdown",
      "source": [
        "#Derivation of DC-Link Current"
      ],
      "metadata": {
        "id": "IghPetbifcAu"
      }
    },
    {
      "cell_type": "markdown",
      "source": [
        "With equations (1)-(6), the dc link current, or more accurately the averaged dc link current without switching details, is readily derived. For a voltage source inverter (VSI), there are three high-side switches and three low-side switches. Let's focus on the high-side switches only and assume (4)-(6) are for high-side switches. The the averaged current through the high side switches are\n",
        "$$\\begin{align}\n",
        "i_{hu}(t) &= m_u(t)i_u(t)\\tag{7}\\\\\n",
        "i_{hv}(t) &= m_v(t)i_v(t)\\tag{8}\\\\\n",
        "i_{hw}(t) &= m_w(t)i_v(t)\\tag{9}\n",
        "\\end{align}$$\n",
        "\n",
        "With the derivation details being omitted, substituting (1)-(6) in (7)-(9) yields\n",
        "$$\\begin{align}\n",
        "i_{hu}(t) &= \\frac{\\sqrt2I_{rms}}{2}\\cos\\left(\\omega t \\right)+ \\frac{\\sqrt2MI_{rms}}{4}\\cos\\left(2\\omega t+2\\phi \\right) + \\frac{\\sqrt2MI_{rms}}{4}\\cos(\\phi)\\tag{10}\\\\\n",
        "i_{hv}(t) &= \\frac{\\sqrt2I_{rms}}{2}\\cos\\left(\\omega t - {2\\pi\\over3} \\right)+ \\frac{\\sqrt2MI_{rms}}{4}\\cos\\left(2\\omega t+2\\phi - {4\\pi\\over3} \\right) + \\frac{\\sqrt2MI_{rms}}{4}\\cos(\\phi)\\tag{11}\\\\\n",
        "i_{hw}(t) &= \\frac{\\sqrt2I_{rms}}{2}\\cos\\left(\\omega t + {2\\pi\\over3} \\right)+ \\frac{\\sqrt2MI_{rms}}{4}\\cos\\left(2\\omega t+2\\phi + {4\\pi\\over3} \\right) + \\frac{\\sqrt2MI_{rms}}{4}\\cos(\\phi)\\tag{12}\n",
        "\\end{align}$$\n",
        "\n",
        "The averaged dc link current is\n",
        "$$i_{dc}(t) = i_{hu}(t) + i_{hv}(t) + i_{hw}(t) \\tag{13}$$\n",
        "\n",
        "With the derivation details being omitted again, substituting (10)-(12) in (13) yields\n",
        "$$i_{dc}(t) = I_{dc}= \\frac{3\\sqrt2MI_{rms}}{4}\\cos(\\phi)\\tag{14}$$\n",
        "It is worthing noting that all the ac terms in (10)-(12) get cancelled when they are summed since a set of blanced three-phase signals always add up to zero."
      ],
      "metadata": {
        "id": "6BSnTnxgffqD"
      }
    },
    {
      "cell_type": "markdown",
      "source": [
        "##Maximum DC-Link or Battery Current"
      ],
      "metadata": {
        "id": "wjdeN7J_lE_5"
      }
    },
    {
      "cell_type": "markdown",
      "source": [
        "###Sinusoidal PWM Case"
      ],
      "metadata": {
        "id": "xteg1U-Zljsd"
      }
    },
    {
      "cell_type": "markdown",
      "source": [
        "For SPWM, $I_{dc}$ maximizes when $M=1$ and $\\cos\\phi =1$. Hence,\n",
        "$$I_{dcmax\\_SPWM} = {3\\over4}\\sqrt2I_{rms} \\tag{15}$$"
      ],
      "metadata": {
        "id": "3wLscFtwlJKF"
      }
    },
    {
      "cell_type": "markdown",
      "source": [
        "###Space-Vector PWM Case"
      ],
      "metadata": {
        "id": "1Fldwl0FmDN3"
      }
    },
    {
      "cell_type": "markdown",
      "source": [
        "For SVPWM, $I_{dc}$ maximizes when $M={2\\over\\sqrt3}$ and $\\cos\\phi =1$. Hence,\n",
        "$$I_{dcmax\\_SVPWM} = {\\sqrt3\\over2}\\sqrt2I_{rms} \\tag{16}$$"
      ],
      "metadata": {
        "id": "m6WdX3brmDN4"
      }
    },
    {
      "cell_type": "markdown",
      "metadata": {
        "id": "Hv0YxDrWU4h8"
      },
      "source": [
        "#Python Code\n",
        "The Python code illustrates averaged model of a VSI."
      ]
    },
    {
      "cell_type": "code",
      "execution_count": null,
      "metadata": {
        "colab": {
          "base_uri": "https://localhost:8080/",
          "height": 1000
        },
        "id": "XeGsHYTt8IXU",
        "outputId": "077244bb-4559-4099-91df-b0f5145f40cb"
      },
      "outputs": [
        {
          "output_type": "stream",
          "name": "stderr",
          "text": [
            "<ipython-input-3-ca4c1d4bd533>:132: UserWarning: This figure includes Axes that are not compatible with tight_layout, so results might be incorrect.\n",
            "  fig.tight_layout()\n",
            "<ipython-input-3-ca4c1d4bd533>:120: MatplotlibDeprecationWarning: Passing the width parameter of __init__() positionally is deprecated since Matplotlib 3.6; the parameter will become keyword-only two minor releases later.\n",
            "  ax.add_patch(mp.Arrow(1.75 - 0.5*iac[k],0.9-k*0.9,iac[k],0,0.3,color=clst[k]))\n",
            "<ipython-input-3-ca4c1d4bd533>:121: MatplotlibDeprecationWarning: Passing the width parameter of __init__() positionally is deprecated since Matplotlib 3.6; the parameter will become keyword-only two minor releases later.\n",
            "  ax.add_patch(mp.Arrow(-2.2+k*1.5 ,1.5+ 0.5*ih[k],0,-ih[k],0.3,color=clst[k]))\n",
            "<ipython-input-3-ca4c1d4bd533>:122: MatplotlibDeprecationWarning: Passing the width parameter of __init__() positionally is deprecated since Matplotlib 3.6; the parameter will become keyword-only two minor releases later.\n",
            "  ax.add_patch(mp.Arrow(-2.1+k*1.5 ,-1.5- 0.5*(iac[k]-ih[k]),0,iac[k]-ih[k],0.3,color=clst[k]))\n",
            "<ipython-input-3-ca4c1d4bd533>:123: MatplotlibDeprecationWarning: Passing the width parameter of __init__() positionally is deprecated since Matplotlib 3.6; the parameter will become keyword-only two minor releases later.\n",
            "  ax.add_patch(mp.Arrow(-2.75-idc*0.5 ,2.5,idc,0,0.3,color='c'))\n"
          ]
        },
        {
          "output_type": "display_data",
          "data": {
            "text/plain": [
              "<Figure size 900x1600 with 5 Axes>"
            ],
            "image/png": "[encoded data removed]"
          },
          "metadata": {}
        }
      ],
      "source": [
        "import matplotlib\n",
        "from os import linesep\n",
        "import numpy as np\n",
        "from numpy import linspace,cos,pi\n",
        "import matplotlib.pyplot as plt\n",
        "from matplotlib.colors import to_rgba\n",
        "from matplotlib.path import Path\n",
        "import matplotlib.patches as mp\n",
        "from matplotlib.collections import PatchCollection\n",
        "from matplotlib import animation,rc,transforms\n",
        "rc('animation', html='jshtml')\n",
        "plt.rcParams.update({\"font.family\" : \"serif\",\"mathtext.fontset\" : \"cm\"})\n",
        "\n",
        "#load currents\n",
        "def iac(t,Ipk,f):\n",
        "  iact=[]\n",
        "  for k in range(3):\n",
        "    iact.append(Ipk*cos(2*pi*f*t-k*2*pi/3))\n",
        "  return iact\n",
        "\n",
        "#modulation functions for high-side switches\n",
        "def mh(t,M,f,phi):\n",
        "  mt=[]\n",
        "  for k in range(3):\n",
        "    mt.append(0.5+0.5*M*cos(2*pi*t+phi-k*2*pi/3))\n",
        "  return mt\n",
        "\n",
        "#high-side siwtch currents\n",
        "def ih(t,Ipk,M,f,phi):\n",
        "  iht=[]\n",
        "  for k in range(3):\n",
        "    iht.append(iac(t,Ipk,f)[k]*mh(t,M,f,phi)[k])\n",
        "  return iht\n",
        "\n",
        "def drawSwitch(ax,x0,y0,h,theta,lw,color):\n",
        "  \"\"\"\n",
        "  x0,y0: location of the bottom tip of the switch for vertical switch\n",
        "  h: hight\n",
        "  theta: open angle of the throw in degree\n",
        "  lw: line width\n",
        "  \"\"\"\n",
        "  ax.add_patch(mp.PathPatch(Path([(x0,y0),\n",
        "                                  (x0,y0+h*0.25),\n",
        "                                  (x0,y0+h*0.75),\n",
        "                                  (x0,y0+h)],\n",
        "                                 [Path.MOVETO,\n",
        "                                  Path.LINETO,\n",
        "                                  Path.MOVETO,\n",
        "                                  Path.LINETO]),\n",
        "                            lw=lw,ec=color))\n",
        "  rot=transforms.Affine2D().rotate_deg_around(x0,y0+h*0.75,theta)+ax.transData\n",
        "  ax.add_patch(mp.PathPatch(Path([(x0,y0+h*0.75),\n",
        "                                  (x0,y0+h*0.25)],\n",
        "                                 [Path.MOVETO,\n",
        "                                  Path.LINETO]),\n",
        "                            lw=lw,ec=color,transform=rot))\n",
        "  return\n",
        "\n",
        "def drawCurrentSource(ax,x0,y0,d,theta,lw):\n",
        "  \"\"\"\n",
        "  x0,y0: center of the circle\n",
        "  d: diameter of the circle\n",
        "  h: hight\n",
        "  theta: direction of the arrow, 0 for horizontal right\n",
        "  lw: line width\n",
        "  \"\"\"\n",
        "  ax.add_patch(mp.Circle((x0,y0),d*0.5,lw=lw,ec='k',fc='none'))\n",
        "  rot=transforms.Affine2D().rotate_deg_around(x0,y0,theta)+ax.transData\n",
        "  pth1 = mp.PathPatch(Path([(x0-0.4*d,y0),(x0+0.4*d,y0)], [Path.MOVETO,Path.LINETO]))\n",
        "  pth2 = mp.PathPatch(Path([(x0+0.4*d,y0),(x0+0.4*d - 0.2*d*cos(pi/4),y0 + 0.2*d*cos(pi/4))], [Path.MOVETO,Path.LINETO]))\n",
        "  pth3 = mp.PathPatch(Path([(x0+0.4*d,y0),(x0+0.4*d - 0.2*d*cos(pi/4),y0 - 0.2*d*cos(pi/4))], [Path.MOVETO,Path.LINETO]))\n",
        "  pc=PatchCollection([pth1,pth2,pth3],ec='k',lw=lw,transform=rot)\n",
        "  ax.add_collection(pc)\n",
        "  return\n",
        "\n",
        "#draw the VSI without switches, non-animated part\n",
        "def drawVSIna(ax,lw):\n",
        "  ax.add_patch(mp.PathPatch(Path([(-4,2.5),(1,2.5),(-4,-2.5),(1,-2.5)],\n",
        "                                 [Path.MOVETO,Path.LINETO,Path.MOVETO,Path.LINETO]),lw=lw))\n",
        "  tx_iac=[r'$i_u$',r'$i_v$',r'$i_w$']\n",
        "  tx_ih=[r'$i_{hu}$',r'$i_{hv}$',r'$i_{hw}$']\n",
        "  \n",
        "  for k in range(3):\n",
        "    ax.add_patch(mp.PathPatch(Path([(-2+k*1.5,2.5),\n",
        "                                    (-2+k*1.5,2),\n",
        "                                    (-2+k*1.5,1),\n",
        "                                    (-2+k*1.5,-1),\n",
        "                                    (-2+k*1.5,-2),\n",
        "                                    (-2+k*1.5,-2.5)],\n",
        "                                   [Path.MOVETO,\n",
        "                                    Path.LINETO,\n",
        "                                    Path.MOVETO,\n",
        "                                    Path.LINETO,\n",
        "                                    Path.MOVETO,\n",
        "                                    Path.LINETO]),lw=lw))\n",
        "    ax.add_patch(mp.PathPatch(Path([(-2+k*1.5,0.9-k*0.9),\n",
        "                                    (2.5,0.9-k*0.9),\n",
        "                                    (3.25,0.9-k*0.9),\n",
        "                                    (4,0.9-k*0.9)],[Path.MOVETO,Path.LINETO,Path.MOVETO,Path.LINETO]),lw=lw))\n",
        "    drawCurrentSource(ax,2.875,0.9-k*0.9,0.75,0,lw)\n",
        "    ax.text(1.75,1.1-k*0.9,tx_iac[k],size=28,color=clst[k])\n",
        "    ax.text(-1.95+k*1.5,2,tx_ih[k],size=28,color=clst[k])\n",
        "  ax.text(-3,2.1,r'$I_{dc}$',size=28,color='c')\n",
        "  ax.add_patch(mp.PathPatch(Path([(4,0.9),(4,-0.9)],[Path.MOVETO,Path.LINETO]),lw=lw))\n",
        "  ax.add_patch(mp.PathPatch(Path([(-3.75,2.5),(-3.75,0.05),\n",
        "                                  (-3.75,-0.05),(-3.75,-2.5)],\n",
        "                                 [Path.MOVETO,Path.LINETO,\n",
        "                                  Path.MOVETO,Path.LINETO]),lw=lw))\n",
        "  ax.add_patch(mp.PathPatch(Path([(-4,0.05),(-3.5,0.05),\n",
        "                                  (-4,-0.05),(-3.5,-0.05)],\n",
        "                                 [Path.MOVETO,Path.LINETO,\n",
        "                                  Path.MOVETO,Path.LINETO]),lw=lw))\n",
        "  return\n",
        "\n",
        "#draw the animated part of the VSI\n",
        "def drawVSIanim(ax,mh,iac,ih,idc):\n",
        "  for k in range(3):\n",
        "    drawSwitch(ax,-2+k*1.5,1,1,45*(1-mh[k]),3,to_rgba(clst[k],mh[k]))\n",
        "    drawSwitch(ax,-2+k*1.5,-2,1,45*mh[k],3,to_rgba(clst[k],1-mh[k]))\n",
        "    ax.add_patch(mp.Arrow(1.75 - 0.5*iac[k],0.9-k*0.9,iac[k],0,0.3,color=clst[k]))\n",
        "    ax.add_patch(mp.Arrow(-2.2+k*1.5 ,1.5+ 0.5*ih[k],0,-ih[k],0.3,color=clst[k]))\n",
        "    ax.add_patch(mp.Arrow(-2.1+k*1.5 ,-1.5- 0.5*(iac[k]-ih[k]),0,iac[k]-ih[k],0.3,color=clst[k]))\n",
        "  ax.add_patch(mp.Arrow(-2.75-idc*0.5 ,2.5,idc,0,0.3,color='c'))\n",
        "  return\n",
        "\n",
        "fig = plt.figure(figsize=(9,16))\n",
        "ax1 = fig.add_axes((0,0.625 , 1, 0.375),xlim=[-4.5,4.5], ylim=[-3,3]) # VSI non-animated parts\n",
        "ax2 = fig.add_axes((0,0.625 , 1, 0.375),xlim=[-4.5,4.5], ylim=[-3,3]) # VSI animated parts\n",
        "ax3 = fig.add_axes((0.05, 0.416, .95, 0.2), xlim=[-0.02,1.02], ylim=[-1.05,1.05]) #load currents\n",
        "ax4 = fig.add_axes((0.05, 0.208, .95, 0.2), xlim=[-0.02,1.02], ylim=[-0.02,1.02]) # modulation functions\n",
        "ax5 = fig.add_axes((0.05, 0.0, .95, 0.2), xlim=[-0.02,1.02], ylim=[-1,1]) #switches' currents and dc current\n",
        "fig.tight_layout()\n",
        "ax1.axis('off')\n",
        "ax2.axis('off')\n",
        "axlst = [ax3,ax4,ax5]\n",
        "for k in range(len(axlst)):\n",
        "  axlst[k].spines[['top','right']].set_visible(False)\n",
        "  axlst[k].spines[['left','bottom']].set_position(('data', 0))\n",
        "  axlst[k].set_xticks([]) #remove x-axis ticks\n",
        "\n",
        "ax3.set_yticks([-1,0,1])\n",
        "ax4.set_yticks([0,0.5,1])\n",
        "ax5.set_yticks([-1,-0.5,0.5,1])\n",
        "\n",
        "\n",
        "#parameters\n",
        "Ipk = 1\n",
        "f=1\n",
        "M=1 #mod index\n",
        "phi = pi/2 #power factor angle\n",
        "clst=['r','b','darkgreen']\n",
        "Nfpp=200\n",
        "Nf = 1*Nfpp\n",
        "t=linspace(0,1/f,Nfpp)\n",
        "\n",
        "iact = iac(t,Ipk,f) #time domain load currents\n",
        "mht = mh(t,M,f,phi) #time domain modulation functions for high-side\n",
        "iht = ih(t,Ipk,M,f,phi) #time domain current thru high-side switches\n",
        "idct = iht[0] + iht[1] + iht[2] #time domain dc link current\n",
        "\n",
        "tx_iac=[r'$i_u$,',r'$i_v$,',r'$i_w$']\n",
        "tx_mh=[r'$m_{hu}$,',r'$m_{hv}$,',r'$m_{hw}$']\n",
        "tx_ih=[r'$i_{hu}$,',r'$i_{hv}$,',r'$i_{hw}$,']\n",
        "lines = [] #array containing all the line segments\n",
        "for k in range(3):  \n",
        "  lines.append(ax3.plot([],[],color=clst[k],lw=3)[0]) #load current\n",
        "  lines.append(ax4.plot([],[],color=clst[k],lw=3)[0]) #mod func\n",
        "  lines.append(ax5.plot([],[],color=clst[k],lw=3)[0]) #switch currents\n",
        "  ax3.text(k*0.07,1,tx_iac[k],color=clst[k],size=28)\n",
        "  ax4.text(k*0.1,1,tx_mh[k],color=clst[k],size=28)\n",
        "  ax5.text(k*0.1,1,tx_ih[k],color=clst[k],size=28)\n",
        "ax5.text(3*0.1,1,r'$I_{dc}$',color='c',size=28)\n",
        "lines.append(ax5.plot([],[],color='c',lw=5)[0]) #dc link current\n",
        "\n",
        "# animation function.  This is called sequentially\n",
        "def animate(i):\n",
        "  for k in range(3): \n",
        "    lines[3*k].set_data(t[0:i],iact[k][0:i])\n",
        "    lines[3*k+1].set_data(t[0:i],mht[k][0:i])\n",
        "    lines[3*k+2].set_data(t[0:i],iht[k][0:i])\n",
        "  lines[9].set_data(t[0:i],idct[0:i])\n",
        "  \n",
        "  ax2.clear()\n",
        "  ax2.set_xlim(-4.5,4.5)\n",
        "  ax2.set_ylim(-3,3)\n",
        "  ax2.axis('off')\n",
        "  drawVSIanim(ax2,[row[i] for row in mht],[row[i] for row in iact],[row[i] for row in iht],idct[i])\n",
        "  return\n",
        "\n",
        "drawVSIna(ax1,2)\n",
        "anim = animation.FuncAnimation(fig, animate, frames=Nf, interval=50)\n",
        "# anim #uncomment to generate animation in the output area\n",
        "# to save the animation, uncomment the following three lines\n",
        "fn = r\"VSI_averagedModel_zeropf_voltageLead.mp4\" \n",
        "writervideo = animation.FFMpegWriter(fps=40) \n",
        "anim.save(fn, writer=writervideo,dpi = 120)\n",
        "\n",
        "#debug\n",
        "# for k in range(3):  \n",
        "#   ax3.plot(t,iact[k],color=clst[k],lw=3)\n",
        "#   ax4.plot(t,mht[k],color=clst[k],lw=3)\n",
        "#   ax5.plot(t,iht[k],color=clst[k],lw=3)\n",
        "# ax5.plot(t,idct,'m',lw=4)\n",
        "\n",
        "\n",
        "# drawCurrentSource(ax1,0,0,1,90,3)\n",
        "\n",
        "# drawVSIanim(ax1,mht[:][1],iact[:][1],iht[:][1],idct[1])\n",
        "# len(mht)\n"
      ]
    }
  ],
  "metadata": {
    "colab": {
      "provenance": [],
      "include_colab_link": true
    },
    "kernelspec": {
      "display_name": "Python 3",
      "name": "python3"
    }
  },
  "nbformat": 4,
  "nbformat_minor": 0
}